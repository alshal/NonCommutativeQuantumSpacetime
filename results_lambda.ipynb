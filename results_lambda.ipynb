{
 "cells": [
  {
   "cell_type": "code",
   "execution_count": 24,
   "metadata": {},
   "outputs": [
    {
     "name": "stdout",
     "output_type": "stream",
     "text": [
      "\\begin{table}\n",
      "\\begin{tabular}{cc}\n",
      "$D$ & $\\frac{\\Lambda_{qg}}{\\ell_p}$ \\\\\n",
      "4 & 2.26883548597 \\\\\n",
      "6 & 171.939677914 \\\\\n",
      "8 & 1489.5682657 \\\\\n",
      "9 & 3059.2967929 \\\\\n",
      "11 & 8714.77292386 \\\\\n",
      "26 & 131994.879142 \\\\\n",
      "\\end{tabular}\n",
      "\\end{table}\n"
     ]
    }
   ],
   "source": [
    "import numpy as np\n",
    "import scipy.special as sci\n",
    "from astropy.io import ascii\n",
    "x = np.array([4,6,8,9,11,26])\n",
    "y = np.power(3.26,1/x)*(np.power(10e66,1/x))\n",
    "z= 1.035e-19 *y\n",
    "w = 2 * np.power(sci.gammaincinv(3/2,z),1/2)\n",
    "final = 1/w\n",
    "ascii.write([x,final], format= 'latex', names=[r'$D$',  r'$\\frac{\\Lambda_{qg}}{\\ell_p}$'])"
   ]
  },
  {
   "cell_type": "code",
   "execution_count": 10,
   "metadata": {},
   "outputs": [
    {
     "name": "stderr",
     "output_type": "stream",
     "text": [
      "WARNING: AstropyDeprecationWarning: test.dat already exists. Automatically overwriting ASCII files is deprecated. Use the argument 'overwrite=True' in the future. [astropy.io.ascii.ui]\n"
     ]
    }
   ],
   "source": [
    "import numpy as np\n",
    "import math\n",
    "from astropy.io import ascii\n",
    "x = np.array([4,6,8,9,11,26])\n",
    "y = np.power(10e66,1/x)\n",
    "ascii.write([x, y], 'test.dat', names=['x', 'y'])"
   ]
  },
  {
   "cell_type": "code",
   "execution_count": null,
   "metadata": {
    "collapsed": true
   },
   "outputs": [],
   "source": []
  }
 ],
 "metadata": {
  "kernelspec": {
   "display_name": "Python 3",
   "language": "python",
   "name": "python3"
  },
  "language_info": {
   "codemirror_mode": {
    "name": "ipython",
    "version": 3
   },
   "file_extension": ".py",
   "mimetype": "text/x-python",
   "name": "python",
   "nbconvert_exporter": "python",
   "pygments_lexer": "ipython3",
   "version": "3.6.3"
  }
 },
 "nbformat": 4,
 "nbformat_minor": 2
}
