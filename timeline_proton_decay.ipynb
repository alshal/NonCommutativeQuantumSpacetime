{
 "cells": [
  {
   "cell_type": "code",
   "execution_count": 47,
   "metadata": {},
   "outputs": [
    {
     "data": {
      "image/png": "[encoded data removed]",
      "text/plain": [
       "<matplotlib.figure.Figure at 0x7f9f67bfddd8>"
      ]
     },
     "metadata": {},
     "output_type": "display_data"
    }
   ],
   "source": [
    "import matplotlib.pyplot as plt\n",
    "\n",
    "fig, ax = plt.subplots()\n",
    "########\n",
    "# su(5)\n",
    "ax.broken_barh([(30, 2)], (35, 2), facecolors='green')\n",
    "\n",
    "#susy so10\n",
    "ax.broken_barh([(32.4, 3)], (30, 2), facecolors='green')\n",
    "\n",
    "# so(10)\n",
    "ax.broken_barh([(31.5, 2.5)], (25, 2), facecolors='green')\n",
    "\n",
    "# qg\n",
    "ax.broken_barh([(34, 11)], (20, 2), facecolors='red')\n",
    "\n",
    "# Minimal SUSY SU(5)\n",
    "ax.broken_barh([(28, 4)], (15, 2), facecolors='green')\n",
    "\n",
    "# SUGRA SU(5)\n",
    "ax.broken_barh([(32, 2)], (10, 2), facecolors='green')\n",
    "\n",
    "# flipped  SU(5) SUSTR\n",
    "ax.broken_barh([(35, 2)], (5, 2), facecolors='green')\n",
    "\n",
    "# Experiment: Frijus\n",
    "ax.broken_barh([(28, 4.5)], (0, 2), facecolors='blue')\n",
    "\n",
    "# Experiment: IMB\n",
    "ax.broken_barh([(28, 5.7)], (-5, 2), facecolors='blue')\n",
    "\n",
    "# Experiment: K\n",
    "ax.broken_barh([(28, 4.2)], (-10, 2), facecolors='blue')\n",
    "\n",
    "# Experiment: SK\n",
    "ax.broken_barh([(28, 6.2)], (-15, 2), facecolors='blue')\n",
    "\n",
    "# Experiment: HK\n",
    "ax.broken_barh([(28, 7)], (-20, 2), facecolors='blue')\n",
    "#######\n",
    "ax.set_ylim(-25, 40)\n",
    "ax.set_xlim(28, 45)\n",
    "ax.set_xlabel(r'$\\log \\tau_p $''(years)')\n",
    "ax.set_yticks([37,32,27,22 ,17,12,7,2,-3,-8,-12,-17])\n",
    "ax.set_yticklabels(['Minimal SU(5)',' SUSY-SO(10)','SO(10','VBH Models', 'Minimal SUSY-SU(5)', 'SUGRA-SU(5)','Superstring-flipped SU(5)','Frijus','IMB','Kamiokand','Super-K','Hyper-K'])\n",
    "ax.set_title ('Proton lifetime ' r'$p \\to e^{+} \\pi^0$ ')\n",
    "#ax.annotate('intrupt', (61, 25),\n",
    "         #   xytext=(0.8, 0.9), textcoords='axes fraction',\n",
    "          #  arrowprops=dict(facecolor='black', shrink=0.05),\n",
    "           # fontsize=16,\n",
    "           # horizontalalignment='right', verticalalignment='top')\n",
    "\n",
    "plt.show()  \n",
    "\n",
    "\n"
   ]
  },
  {
   "cell_type": "code",
   "execution_count": null,
   "metadata": {
    "collapsed": true
   },
   "outputs": [],
   "source": []
  },
  {
   "cell_type": "code",
   "execution_count": null,
   "metadata": {
    "collapsed": true
   },
   "outputs": [],
   "source": []
  }
 ],
 "metadata": {
  "kernelspec": {
   "display_name": "Python 3",
   "language": "python",
   "name": "python3"
  },
  "language_info": {
   "codemirror_mode": {
    "name": "ipython",
    "version": 3
   },
   "file_extension": ".py",
   "mimetype": "text/x-python",
   "name": "python",
   "nbconvert_exporter": "python",
   "pygments_lexer": "ipython3",
   "version": "3.6.3"
  }
 },
 "nbformat": 4,
 "nbformat_minor": 2
}
